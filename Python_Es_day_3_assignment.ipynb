{
  "nbformat": 4,
  "nbformat_minor": 0,
  "metadata": {
    "colab": {
      "name": "Python Es day 3 assignment",
      "provenance": [],
      "collapsed_sections": [],
      "authorship_tag": "ABX9TyOIkRcu20GzuMgpWrHu1NL1",
      "include_colab_link": true
    },
    "kernelspec": {
      "name": "python3",
      "display_name": "Python 3"
    }
  },
  "cells": [
    {
      "cell_type": "markdown",
      "metadata": {
        "id": "view-in-github",
        "colab_type": "text"
      },
      "source": [
        "<a href=\"https://colab.research.google.com/github/durgadevi-392/python-Es-day-3-assignment/blob/master/Python_Es_day_3_assignment.ipynb\" target=\"_parent\"><img src=\"https://colab.research.google.com/assets/colab-badge.svg\" alt=\"Open In Colab\"/></a>"
      ]
    },
    {
      "cell_type": "code",
      "metadata": {
        "id": "I51ttdmCYMrd",
        "colab_type": "code",
        "colab": {
          "base_uri": "https://localhost:8080/",
          "height": 51
        },
        "outputId": "57e2f316-836b-451a-8dfc-7585e066cd1b"
      },
      "source": [
        "# sum of n numbers\n",
        "n=int(input(\"Enter number:\"))\n",
        "sum=0\n",
        "while n>0:\n",
        "    sum = sum+n\n",
        "    n=n-1\n",
        "print (\"sum of n numbers \", sum)"
      ],
      "execution_count": null,
      "outputs": [
        {
          "output_type": "stream",
          "text": [
            "Enter number:20\n",
            "sum of n numbers  210\n"
          ],
          "name": "stdout"
        }
      ]
    },
    {
      "cell_type": "code",
      "metadata": {
        "id": "XIkAp42Gk7br",
        "colab_type": "code",
        "colab": {
          "base_uri": "https://localhost:8080/",
          "height": 51
        },
        "outputId": "9c2092fc-bea3-41e3-df73-5e5f31c8da28"
      },
      "source": [
        " # given number is prime number or notnum = int(input(\"Enter  number: \"))\n",
        "num=int(input(\"Enter number:\"))\n",
        "if num  >  1:\n",
        "    for i in range(2, num):\n",
        "        if (num % i) == 0:\n",
        "            print(num, \"is not a prime number\")\n",
        "            break\n",
        "    else:\n",
        "        print(num, \"is a prime number\")\n",
        " \n",
        "else:\n",
        "    print(num, \"is not a prime number\")"
      ],
      "execution_count": null,
      "outputs": [
        {
          "output_type": "stream",
          "text": [
            "Enter number:31\n",
            "31 is a prime number\n"
          ],
          "name": "stdout"
        }
      ]
    }
  ]
}